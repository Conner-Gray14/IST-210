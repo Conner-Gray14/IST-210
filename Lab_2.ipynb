{
  "nbformat": 4,
  "nbformat_minor": 0,
  "metadata": {
    "colab": {
      "name": "Lab 2",
      "provenance": [],
      "authorship_tag": "ABX9TyNCglfcAdpA6XAzORiTyW7c",
      "include_colab_link": true
    },
    "kernelspec": {
      "name": "python3",
      "display_name": "Python 3"
    }
  },
  "cells": [
    {
      "cell_type": "markdown",
      "metadata": {
        "id": "view-in-github",
        "colab_type": "text"
      },
      "source": [
        "<a href=\"https://colab.research.google.com/github/Conner-Gray14/IST-210/blob/master/Lab_2.ipynb\" target=\"_parent\"><img src=\"https://colab.research.google.com/assets/colab-badge.svg\" alt=\"Open In Colab\"/></a>"
      ]
    },
    {
      "cell_type": "markdown",
      "metadata": {
        "id": "A2LQrqzAYyl9",
        "colab_type": "text"
      },
      "source": [
        "\n",
        "\n",
        "#Conner Gray Lab 2\n",
        "\n"
      ]
    },
    {
      "cell_type": "markdown",
      "metadata": {
        "id": "QdargsQZcanm",
        "colab_type": "text"
      },
      "source": [
        "##Explanation\n",
        "\n",
        "  The objective was to make an ER diagram for a pet shop with certain requirements. From this, I identified 6 entities: Pets, Customer, Food, Enclosure, TransactionPet, and TransactionFood.\n",
        "\n",
        "  For Pets I gave it the primary key (PK) of petID so each pet in the store can be identified by. The attributes given were price, type, and enclosureID. I included enclosuredID to show the relationship off a pet will have with the enclosure as pets will have a certain type of enclosure needed for them. \n",
        "\n",
        "  Next, for Customer, they are identified by the PK loyaltyID as we assumed each customer will have one and this will help the store identify them during the transaction phase. The attributes that makeup Customer are personal information such as first/last name, phone number, and address. The store could use this in case there is a problem with the loyaltyID and to possibly send personalized coupons to the customers. \n",
        "\n",
        "  The Food entity PK is itemUPC this gives the store the ability to identify certain types of food. The attributes I chose were Type, Brand, Size, Price. This helps the store’s ability to further identify not just food for certain animals but the different brands, different sizes for that specific brand, and the given price. \n",
        "\n",
        "  Finally, for Transactions the store wanted to break Pet and Food into two separate entities. TransactionPet PK is transactionPet# and for TransactionFood it is transactionFood#. Between those two the only difference for the attributes is for TranscationPet is petID so when checking out you can know which specific pet is being purchased and TranscationFood it is itemUPC so you know which specific food item is being bought. Other than that both have the attributes of payment type, loyaltyID, and Date/Time. This will allow the store to track how customers are paying when they bought the items and the specific customer who bought them. These last two tables are crucial for stores as it gives the most valuable information that they can use for their advantage. \n",
        "\n",
        "\n"
      ]
    },
    {
      "cell_type": "markdown",
      "metadata": {
        "id": "x13zPtRFcSIt",
        "colab_type": "text"
      },
      "source": [
        "![alt text](https://raw.githubusercontent.com/Conner-Gray14/IST-210/master/Lab%202%20ER%20Diagram.png)"
      ]
    }
  ]
}