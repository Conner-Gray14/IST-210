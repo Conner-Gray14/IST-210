{
  "nbformat": 4,
  "nbformat_minor": 0,
  "metadata": {
    "colab": {
      "name": "First Day",
      "provenance": [],
      "authorship_tag": "ABX9TyMrZ//pbkTX0qvvyVShHXBK",
      "include_colab_link": true
    },
    "kernelspec": {
      "name": "python3",
      "display_name": "Python 3"
    }
  },
  "cells": [
    {
      "cell_type": "markdown",
      "metadata": {
        "id": "view-in-github",
        "colab_type": "text"
      },
      "source": [
        "<a href=\"https://colab.research.google.com/github/Conner-Gray14/IST-210/blob/master/Introduction/First_Day.ipynb\" target=\"_parent\"><img src=\"https://colab.research.google.com/assets/colab-badge.svg\" alt=\"Open In Colab\"/></a>"
      ]
    },
    {
      "cell_type": "code",
      "metadata": {
        "id": "VvmfQVA5zBog",
        "colab_type": "code",
        "colab": {
          "base_uri": "https://localhost:8080/",
          "height": 34
        },
        "outputId": "7b65d7bb-2492-4613-c710-322c3ebda486"
      },
      "source": [
        "2+2"
      ],
      "execution_count": 2,
      "outputs": [
        {
          "output_type": "execute_result",
          "data": {
            "text/plain": [
              "4"
            ]
          },
          "metadata": {
            "tags": []
          },
          "execution_count": 2
        }
      ]
    },
    {
      "cell_type": "markdown",
      "metadata": {
        "id": "rzaqfuhXz9pz",
        "colab_type": "text"
      },
      "source": [
        "This is my first notebook"
      ]
    },
    {
      "cell_type": "code",
      "metadata": {
        "id": "7psUpBi6zvSw",
        "colab_type": "code",
        "colab": {
          "base_uri": "https://localhost:8080/",
          "height": 34
        },
        "outputId": "bf829fd0-d086-4b85-c5db-2bb59fcd4608"
      },
      "source": [
        "2+3"
      ],
      "execution_count": 3,
      "outputs": [
        {
          "output_type": "execute_result",
          "data": {
            "text/plain": [
              "5"
            ]
          },
          "metadata": {
            "tags": []
          },
          "execution_count": 3
        }
      ]
    },
    {
      "cell_type": "markdown",
      "metadata": {
        "id": "7E1wJJqw0S6L",
        "colab_type": "text"
      },
      "source": [
        "**This is bold**"
      ]
    },
    {
      "cell_type": "markdown",
      "metadata": {
        "id": "NjUVNuuw4JWd",
        "colab_type": "text"
      },
      "source": [
        "![alt text](59844302.png)\\\n"
      ]
    },
    {
      "cell_type": "markdown",
      "metadata": {
        "id": "0V36Fo3C0mFF",
        "colab_type": "text"
      },
      "source": [
        "# Header\n"
      ]
    }
  ]
}