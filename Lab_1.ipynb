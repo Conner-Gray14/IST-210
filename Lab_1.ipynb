{
  "nbformat": 4,
  "nbformat_minor": 0,
  "metadata": {
    "colab": {
      "name": "Lab 1",
      "provenance": [],
      "authorship_tag": "ABX9TyNjkMHD7YroLxYyFnPPfEvz"
    },
    "kernelspec": {
      "name": "python3",
      "display_name": "Python 3"
    }
  },
  "cells": [
    {
      "cell_type": "markdown",
      "metadata": {
        "id": "wBQ85zCAt2SY",
        "colab_type": "text"
      },
      "source": [
        "###Conner Gray"
      ]
    },
    {
      "cell_type": "markdown",
      "metadata": {
        "id": "sbx0VoBdt6gD",
        "colab_type": "text"
      },
      "source": [
        "###Python, AI, and Java"
      ]
    },
    {
      "cell_type": "markdown",
      "metadata": {
        "id": "gwsezM5Jufyg",
        "colab_type": "text"
      },
      "source": [
        "### Data Scientist"
      ]
    },
    {
      "cell_type": "markdown",
      "metadata": {
        "id": "o0Qeht33vG9Y",
        "colab_type": "text"
      },
      "source": [
        "![alt text](https://raw.githubusercontent.com/Conner-Gray14/IST-210/master/Introduction/86C82C93-9FF4-469D-8D1D-957CD2850BAC.jpeg)\n"
      ]
    }
  ]
}